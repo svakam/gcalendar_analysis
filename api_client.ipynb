{
 "cells": [
  {
   "metadata": {},
   "cell_type": "markdown",
   "source": "### Dependencies",
   "id": "33b9655d95d6d1ab"
  },
  {
   "cell_type": "code",
   "id": "initial_id",
   "metadata": {
    "collapsed": true,
    "ExecuteTime": {
     "end_time": "2025-07-11T02:53:24.685183Z",
     "start_time": "2025-07-11T02:52:04.735574Z"
    }
   },
   "source": [
    "# (Run once)\n",
    "#!pip install google-api-python-client google-auth-oauthlib\n",
    "#!pip install pandas"
   ],
   "outputs": [
    {
     "name": "stdout",
     "output_type": "stream",
     "text": [
      "Collecting google-api-python-client\n",
      "  Obtaining dependency information for google-api-python-client from https://files.pythonhosted.org/packages/b1/2c/758f415a19a12c3c6d06902794b0dd4c521d912a59b98ab752bba48812df/google_api_python_client-2.176.0-py3-none-any.whl.metadata\n",
      "  Downloading google_api_python_client-2.176.0-py3-none-any.whl.metadata (7.0 kB)\n",
      "Collecting google-auth-oauthlib\n",
      "  Obtaining dependency information for google-auth-oauthlib from https://files.pythonhosted.org/packages/ac/84/40ee070be95771acd2f4418981edb834979424565c3eec3cd88b6aa09d24/google_auth_oauthlib-1.2.2-py3-none-any.whl.metadata\n",
      "  Downloading google_auth_oauthlib-1.2.2-py3-none-any.whl.metadata (2.7 kB)\n",
      "Collecting httplib2<1.0.0,>=0.19.0 (from google-api-python-client)\n",
      "  Obtaining dependency information for httplib2<1.0.0,>=0.19.0 from https://files.pythonhosted.org/packages/a8/6c/d2fbdaaa5959339d53ba38e94c123e4e84b8fbc4b84beb0e70d7c1608486/httplib2-0.22.0-py3-none-any.whl.metadata\n",
      "  Downloading httplib2-0.22.0-py3-none-any.whl.metadata (2.6 kB)\n",
      "Collecting google-auth!=2.24.0,!=2.25.0,<3.0.0,>=1.32.0 (from google-api-python-client)\n",
      "  Obtaining dependency information for google-auth!=2.24.0,!=2.25.0,<3.0.0,>=1.32.0 from https://files.pythonhosted.org/packages/17/63/b19553b658a1692443c62bd07e5868adaa0ad746a0751ba62c59568cd45b/google_auth-2.40.3-py2.py3-none-any.whl.metadata\n",
      "  Downloading google_auth-2.40.3-py2.py3-none-any.whl.metadata (6.2 kB)\n",
      "Collecting google-auth-httplib2<1.0.0,>=0.2.0 (from google-api-python-client)\n",
      "  Obtaining dependency information for google-auth-httplib2<1.0.0,>=0.2.0 from https://files.pythonhosted.org/packages/be/8a/fe34d2f3f9470a27b01c9e76226965863f153d5fbe276f83608562e49c04/google_auth_httplib2-0.2.0-py2.py3-none-any.whl.metadata\n",
      "  Downloading google_auth_httplib2-0.2.0-py2.py3-none-any.whl.metadata (2.2 kB)\n",
      "Collecting google-api-core!=2.0.*,!=2.1.*,!=2.2.*,!=2.3.0,<3.0.0,>=1.31.5 (from google-api-python-client)\n",
      "  Obtaining dependency information for google-api-core!=2.0.*,!=2.1.*,!=2.2.*,!=2.3.0,<3.0.0,>=1.31.5 from https://files.pythonhosted.org/packages/14/4b/ead00905132820b623732b175d66354e9d3e69fcf2a5dcdab780664e7896/google_api_core-2.25.1-py3-none-any.whl.metadata\n",
      "  Downloading google_api_core-2.25.1-py3-none-any.whl.metadata (3.0 kB)\n",
      "Collecting uritemplate<5,>=3.0.1 (from google-api-python-client)\n",
      "  Obtaining dependency information for uritemplate<5,>=3.0.1 from https://files.pythonhosted.org/packages/a9/99/3ae339466c9183ea5b8ae87b34c0b897eda475d2aec2307cae60e5cd4f29/uritemplate-4.2.0-py3-none-any.whl.metadata\n",
      "  Downloading uritemplate-4.2.0-py3-none-any.whl.metadata (2.6 kB)\n",
      "Collecting requests-oauthlib>=0.7.0 (from google-auth-oauthlib)\n",
      "  Obtaining dependency information for requests-oauthlib>=0.7.0 from https://files.pythonhosted.org/packages/3b/5d/63d4ae3b9daea098d5d6f5da83984853c1bbacd5dc826764b249fe119d24/requests_oauthlib-2.0.0-py2.py3-none-any.whl.metadata\n",
      "  Downloading requests_oauthlib-2.0.0-py2.py3-none-any.whl.metadata (11 kB)\n",
      "Collecting googleapis-common-protos<2.0.0,>=1.56.2 (from google-api-core!=2.0.*,!=2.1.*,!=2.2.*,!=2.3.0,<3.0.0,>=1.31.5->google-api-python-client)\n",
      "  Obtaining dependency information for googleapis-common-protos<2.0.0,>=1.56.2 from https://files.pythonhosted.org/packages/86/f1/62a193f0227cf15a920390abe675f386dec35f7ae3ffe6da582d3ade42c7/googleapis_common_protos-1.70.0-py3-none-any.whl.metadata\n",
      "  Downloading googleapis_common_protos-1.70.0-py3-none-any.whl.metadata (9.3 kB)\n",
      "Collecting protobuf!=3.20.0,!=3.20.1,!=4.21.0,!=4.21.1,!=4.21.2,!=4.21.3,!=4.21.4,!=4.21.5,<7.0.0,>=3.19.5 (from google-api-core!=2.0.*,!=2.1.*,!=2.2.*,!=2.3.0,<3.0.0,>=1.31.5->google-api-python-client)\n",
      "  Obtaining dependency information for protobuf!=3.20.0,!=3.20.1,!=4.21.0,!=4.21.1,!=4.21.2,!=4.21.3,!=4.21.4,!=4.21.5,<7.0.0,>=3.19.5 from https://files.pythonhosted.org/packages/44/3a/b15c4347dd4bf3a1b0ee882f384623e2063bb5cf9fa9d57990a4f7df2fb6/protobuf-6.31.1-cp310-abi3-win_amd64.whl.metadata\n",
      "  Downloading protobuf-6.31.1-cp310-abi3-win_amd64.whl.metadata (593 bytes)\n",
      "Collecting proto-plus<2.0.0,>=1.22.3 (from google-api-core!=2.0.*,!=2.1.*,!=2.2.*,!=2.3.0,<3.0.0,>=1.31.5->google-api-python-client)\n",
      "  Obtaining dependency information for proto-plus<2.0.0,>=1.22.3 from https://files.pythonhosted.org/packages/4e/6d/280c4c2ce28b1593a19ad5239c8b826871fc6ec275c21afc8e1820108039/proto_plus-1.26.1-py3-none-any.whl.metadata\n",
      "  Downloading proto_plus-1.26.1-py3-none-any.whl.metadata (2.2 kB)\n",
      "Requirement already satisfied: requests<3.0.0,>=2.18.0 in c:\\users\\vikra\\dev\\repos\\github\\gcalendar_analysis\\.venv\\lib\\site-packages (from google-api-core!=2.0.*,!=2.1.*,!=2.2.*,!=2.3.0,<3.0.0,>=1.31.5->google-api-python-client) (2.32.4)\n",
      "Collecting cachetools<6.0,>=2.0.0 (from google-auth!=2.24.0,!=2.25.0,<3.0.0,>=1.32.0->google-api-python-client)\n",
      "  Obtaining dependency information for cachetools<6.0,>=2.0.0 from https://files.pythonhosted.org/packages/72/76/20fa66124dbe6be5cafeb312ece67de6b61dd91a0247d1ea13db4ebb33c2/cachetools-5.5.2-py3-none-any.whl.metadata\n",
      "  Downloading cachetools-5.5.2-py3-none-any.whl.metadata (5.4 kB)\n",
      "Collecting pyasn1-modules>=0.2.1 (from google-auth!=2.24.0,!=2.25.0,<3.0.0,>=1.32.0->google-api-python-client)\n",
      "  Obtaining dependency information for pyasn1-modules>=0.2.1 from https://files.pythonhosted.org/packages/47/8d/d529b5d697919ba8c11ad626e835d4039be708a35b0d22de83a269a6682c/pyasn1_modules-0.4.2-py3-none-any.whl.metadata\n",
      "  Downloading pyasn1_modules-0.4.2-py3-none-any.whl.metadata (3.5 kB)\n",
      "Collecting rsa<5,>=3.1.4 (from google-auth!=2.24.0,!=2.25.0,<3.0.0,>=1.32.0->google-api-python-client)\n",
      "  Obtaining dependency information for rsa<5,>=3.1.4 from https://files.pythonhosted.org/packages/64/8d/0133e4eb4beed9e425d9a98ed6e081a55d195481b7632472be1af08d2f6b/rsa-4.9.1-py3-none-any.whl.metadata\n",
      "  Downloading rsa-4.9.1-py3-none-any.whl.metadata (5.6 kB)\n",
      "Collecting pyparsing!=3.0.0,!=3.0.1,!=3.0.2,!=3.0.3,<4,>=2.4.2 (from httplib2<1.0.0,>=0.19.0->google-api-python-client)\n",
      "  Obtaining dependency information for pyparsing!=3.0.0,!=3.0.1,!=3.0.2,!=3.0.3,<4,>=2.4.2 from https://files.pythonhosted.org/packages/05/e7/df2285f3d08fee213f2d041540fa4fc9ca6c2d44cf36d3a035bf2a8d2bcc/pyparsing-3.2.3-py3-none-any.whl.metadata\n",
      "  Downloading pyparsing-3.2.3-py3-none-any.whl.metadata (5.0 kB)\n",
      "Collecting oauthlib>=3.0.0 (from requests-oauthlib>=0.7.0->google-auth-oauthlib)\n",
      "  Obtaining dependency information for oauthlib>=3.0.0 from https://files.pythonhosted.org/packages/be/9c/92789c596b8df838baa98fa71844d84283302f7604ed565dafe5a6b5041a/oauthlib-3.3.1-py3-none-any.whl.metadata\n",
      "  Downloading oauthlib-3.3.1-py3-none-any.whl.metadata (7.9 kB)\n",
      "Collecting pyasn1<0.7.0,>=0.6.1 (from pyasn1-modules>=0.2.1->google-auth!=2.24.0,!=2.25.0,<3.0.0,>=1.32.0->google-api-python-client)\n",
      "  Obtaining dependency information for pyasn1<0.7.0,>=0.6.1 from https://files.pythonhosted.org/packages/c8/f1/d6a797abb14f6283c0ddff96bbdd46937f64122b8c925cab503dd37f8214/pyasn1-0.6.1-py3-none-any.whl.metadata\n",
      "  Downloading pyasn1-0.6.1-py3-none-any.whl.metadata (8.4 kB)\n",
      "Requirement already satisfied: charset_normalizer<4,>=2 in c:\\users\\vikra\\dev\\repos\\github\\gcalendar_analysis\\.venv\\lib\\site-packages (from requests<3.0.0,>=2.18.0->google-api-core!=2.0.*,!=2.1.*,!=2.2.*,!=2.3.0,<3.0.0,>=1.31.5->google-api-python-client) (3.4.2)\n",
      "Requirement already satisfied: idna<4,>=2.5 in c:\\users\\vikra\\dev\\repos\\github\\gcalendar_analysis\\.venv\\lib\\site-packages (from requests<3.0.0,>=2.18.0->google-api-core!=2.0.*,!=2.1.*,!=2.2.*,!=2.3.0,<3.0.0,>=1.31.5->google-api-python-client) (3.10)\n",
      "Requirement already satisfied: urllib3<3,>=1.21.1 in c:\\users\\vikra\\dev\\repos\\github\\gcalendar_analysis\\.venv\\lib\\site-packages (from requests<3.0.0,>=2.18.0->google-api-core!=2.0.*,!=2.1.*,!=2.2.*,!=2.3.0,<3.0.0,>=1.31.5->google-api-python-client) (2.5.0)\n",
      "Requirement already satisfied: certifi>=2017.4.17 in c:\\users\\vikra\\dev\\repos\\github\\gcalendar_analysis\\.venv\\lib\\site-packages (from requests<3.0.0,>=2.18.0->google-api-core!=2.0.*,!=2.1.*,!=2.2.*,!=2.3.0,<3.0.0,>=1.31.5->google-api-python-client) (2025.7.9)\n",
      "Downloading google_api_python_client-2.176.0-py3-none-any.whl (13.7 MB)\n",
      "   ---------------------------------------- 0.0/13.7 MB ? eta -:--:--\n",
      "    --------------------------------------- 0.2/13.7 MB 7.3 MB/s eta 0:00:02\n",
      "   --- ------------------------------------ 1.1/13.7 MB 14.0 MB/s eta 0:00:01\n",
      "   ------- -------------------------------- 2.7/13.7 MB 21.1 MB/s eta 0:00:01\n",
      "   ------------- -------------------------- 4.6/13.7 MB 26.9 MB/s eta 0:00:01\n",
      "   --------------------- ------------------ 7.2/13.7 MB 33.2 MB/s eta 0:00:01\n",
      "   ---------------------------- ----------- 9.8/13.7 MB 37.1 MB/s eta 0:00:01\n",
      "   ------------------------------------ --- 12.3/13.7 MB 50.4 MB/s eta 0:00:01\n",
      "   ---------------------------------------  13.7/13.7 MB 54.7 MB/s eta 0:00:01\n",
      "   ---------------------------------------- 13.7/13.7 MB 46.7 MB/s eta 0:00:00\n",
      "Downloading google_auth_oauthlib-1.2.2-py3-none-any.whl (19 kB)\n",
      "Downloading google_api_core-2.25.1-py3-none-any.whl (160 kB)\n",
      "   ---------------------------------------- 0.0/160.8 kB ? eta -:--:--\n",
      "   ---------------------------------------- 160.8/160.8 kB ? eta 0:00:00\n",
      "Downloading google_auth-2.40.3-py2.py3-none-any.whl (216 kB)\n",
      "   ---------------------------------------- 0.0/216.1 kB ? eta -:--:--\n",
      "   ---------------------------------------- 216.1/216.1 kB ? eta 0:00:00\n",
      "Downloading google_auth_httplib2-0.2.0-py2.py3-none-any.whl (9.3 kB)\n",
      "Downloading httplib2-0.22.0-py3-none-any.whl (96 kB)\n",
      "   ---------------------------------------- 0.0/96.9 kB ? eta -:--:--\n",
      "   ---------------------------------------- 96.9/96.9 kB ? eta 0:00:00\n",
      "Downloading requests_oauthlib-2.0.0-py2.py3-none-any.whl (24 kB)\n",
      "Downloading uritemplate-4.2.0-py3-none-any.whl (11 kB)\n",
      "Downloading cachetools-5.5.2-py3-none-any.whl (10 kB)\n",
      "Downloading googleapis_common_protos-1.70.0-py3-none-any.whl (294 kB)\n",
      "   ---------------------------------------- 0.0/294.5 kB ? eta -:--:--\n",
      "   --------------------------------------- 294.5/294.5 kB 19.0 MB/s eta 0:00:00\n",
      "Downloading oauthlib-3.3.1-py3-none-any.whl (160 kB)\n",
      "   ---------------------------------------- 0.0/160.1 kB ? eta -:--:--\n",
      "   ---------------------------------------- 160.1/160.1 kB 9.4 MB/s eta 0:00:00\n",
      "Downloading proto_plus-1.26.1-py3-none-any.whl (50 kB)\n",
      "   ---------------------------------------- 0.0/50.2 kB ? eta -:--:--\n",
      "   ---------------------------------------- 50.2/50.2 kB ? eta 0:00:00\n",
      "Downloading protobuf-6.31.1-cp310-abi3-win_amd64.whl (435 kB)\n",
      "   ---------------------------------------- 0.0/435.3 kB ? eta -:--:--\n",
      "   ---------------------------------------- 435.3/435.3 kB ? eta 0:00:00\n",
      "Downloading pyasn1_modules-0.4.2-py3-none-any.whl (181 kB)\n",
      "   ---------------------------------------- 0.0/181.3 kB ? eta -:--:--\n",
      "   --------------------------------------- 181.3/181.3 kB 10.7 MB/s eta 0:00:00\n",
      "Downloading pyparsing-3.2.3-py3-none-any.whl (111 kB)\n",
      "   ---------------------------------------- 0.0/111.1 kB ? eta -:--:--\n",
      "   ---------------------------------------- 111.1/111.1 kB ? eta 0:00:00\n",
      "Downloading rsa-4.9.1-py3-none-any.whl (34 kB)\n",
      "Downloading pyasn1-0.6.1-py3-none-any.whl (83 kB)\n",
      "   ---------------------------------------- 0.0/83.1 kB ? eta -:--:--\n",
      "   ---------------------------------------- 83.1/83.1 kB 4.6 MB/s eta 0:00:00\n",
      "Installing collected packages: uritemplate, pyparsing, pyasn1, protobuf, oauthlib, cachetools, rsa, requests-oauthlib, pyasn1-modules, proto-plus, httplib2, googleapis-common-protos, google-auth, google-auth-oauthlib, google-auth-httplib2, google-api-core, google-api-python-client\n",
      "Successfully installed cachetools-5.5.2 google-api-core-2.25.1 google-api-python-client-2.176.0 google-auth-2.40.3 google-auth-httplib2-0.2.0 google-auth-oauthlib-1.2.2 googleapis-common-protos-1.70.0 httplib2-0.22.0 oauthlib-3.3.1 proto-plus-1.26.1 protobuf-6.31.1 pyasn1-0.6.1 pyasn1-modules-0.4.2 pyparsing-3.2.3 requests-oauthlib-2.0.0 rsa-4.9.1 uritemplate-4.2.0\n"
     ]
    },
    {
     "name": "stderr",
     "output_type": "stream",
     "text": [
      "\n",
      "[notice] A new release of pip is available: 23.2.1 -> 25.1.1\n",
      "[notice] To update, run: python.exe -m pip install --upgrade pip\n"
     ]
    },
    {
     "name": "stdout",
     "output_type": "stream",
     "text": [
      "Collecting pandas\n",
      "  Obtaining dependency information for pandas from https://files.pythonhosted.org/packages/c8/7b/bdcb1ed8fccb63d04bdb7635161d0ec26596d92c9d7a6cce964e7876b6c1/pandas-2.3.1-cp311-cp311-win_amd64.whl.metadata\n",
      "  Downloading pandas-2.3.1-cp311-cp311-win_amd64.whl.metadata (19 kB)\n",
      "Collecting numpy>=1.23.2 (from pandas)\n",
      "  Obtaining dependency information for numpy>=1.23.2 from https://files.pythonhosted.org/packages/6b/fb/bb613f4122c310a13ec67585c70e14b03bfc7ebabd24f4d5138b97371d7c/numpy-2.3.1-cp311-cp311-win_amd64.whl.metadata\n",
      "  Downloading numpy-2.3.1-cp311-cp311-win_amd64.whl.metadata (60 kB)\n",
      "     ---------------------------------------- 0.0/60.9 kB ? eta -:--:--\n",
      "     ------ --------------------------------- 10.2/60.9 kB ? eta -:--:--\n",
      "     -------------------------------------- 60.9/60.9 kB 816.8 kB/s eta 0:00:00\n",
      "Requirement already satisfied: python-dateutil>=2.8.2 in c:\\users\\vikra\\dev\\repos\\github\\gcalendar_analysis\\.venv\\lib\\site-packages (from pandas) (2.9.0.post0)\n",
      "Collecting pytz>=2020.1 (from pandas)\n",
      "  Obtaining dependency information for pytz>=2020.1 from https://files.pythonhosted.org/packages/81/c4/34e93fe5f5429d7570ec1fa436f1986fb1f00c3e0f43a589fe2bbcd22c3f/pytz-2025.2-py2.py3-none-any.whl.metadata\n",
      "  Using cached pytz-2025.2-py2.py3-none-any.whl.metadata (22 kB)\n",
      "Collecting tzdata>=2022.7 (from pandas)\n",
      "  Obtaining dependency information for tzdata>=2022.7 from https://files.pythonhosted.org/packages/5c/23/c7abc0ca0a1526a0774eca151daeb8de62ec457e77262b66b359c3c7679e/tzdata-2025.2-py2.py3-none-any.whl.metadata\n",
      "  Using cached tzdata-2025.2-py2.py3-none-any.whl.metadata (1.4 kB)\n",
      "Requirement already satisfied: six>=1.5 in c:\\users\\vikra\\dev\\repos\\github\\gcalendar_analysis\\.venv\\lib\\site-packages (from python-dateutil>=2.8.2->pandas) (1.17.0)\n",
      "Downloading pandas-2.3.1-cp311-cp311-win_amd64.whl (11.3 MB)\n",
      "   ---------------------------------------- 0.0/11.3 MB ? eta -:--:--\n",
      "   ---------------------------------------- 0.1/11.3 MB 3.4 MB/s eta 0:00:04\n",
      "   -- ------------------------------------- 0.7/11.3 MB 11.4 MB/s eta 0:00:01\n",
      "   -------- ------------------------------- 2.4/11.3 MB 19.3 MB/s eta 0:00:01\n",
      "   --------------- ------------------------ 4.5/11.3 MB 25.8 MB/s eta 0:00:01\n",
      "   ----------------------- ---------------- 6.8/11.3 MB 33.2 MB/s eta 0:00:01\n",
      "   --------------------------------- ------ 9.4/11.3 MB 37.5 MB/s eta 0:00:01\n",
      "   ---------------------------------------  11.3/11.3 MB 46.7 MB/s eta 0:00:01\n",
      "   ---------------------------------------- 11.3/11.3 MB 38.6 MB/s eta 0:00:00\n",
      "Downloading numpy-2.3.1-cp311-cp311-win_amd64.whl (13.0 MB)\n",
      "   ---------------------------------------- 0.0/13.0 MB ? eta -:--:--\n",
      "   ------ --------------------------------- 2.2/13.0 MB 46.6 MB/s eta 0:00:01\n",
      "   -------------- ------------------------- 4.6/13.0 MB 48.6 MB/s eta 0:00:01\n",
      "   ---------------------- ----------------- 7.2/13.0 MB 51.3 MB/s eta 0:00:01\n",
      "   ------------------------------ --------- 9.8/13.0 MB 52.3 MB/s eta 0:00:01\n",
      "   -------------------------------------- - 12.5/13.0 MB 54.7 MB/s eta 0:00:01\n",
      "   ---------------------------------------  13.0/13.0 MB 54.7 MB/s eta 0:00:01\n",
      "   ---------------------------------------- 13.0/13.0 MB 46.9 MB/s eta 0:00:00\n",
      "Using cached pytz-2025.2-py2.py3-none-any.whl (509 kB)\n",
      "Using cached tzdata-2025.2-py2.py3-none-any.whl (347 kB)\n",
      "Installing collected packages: pytz, tzdata, numpy, pandas\n",
      "Successfully installed numpy-2.3.1 pandas-2.3.1 pytz-2025.2 tzdata-2025.2\n"
     ]
    },
    {
     "name": "stderr",
     "output_type": "stream",
     "text": [
      "\n",
      "[notice] A new release of pip is available: 23.2.1 -> 25.1.1\n",
      "[notice] To update, run: python.exe -m pip install --upgrade pip\n"
     ]
    }
   ],
   "execution_count": 1
  },
  {
   "metadata": {},
   "cell_type": "markdown",
   "source": "#### Setup and imports",
   "id": "f79f50fcea1ac3c5"
  },
  {
   "metadata": {
    "ExecuteTime": {
     "end_time": "2025-07-11T02:53:43.525201Z",
     "start_time": "2025-07-11T02:53:41.942514Z"
    }
   },
   "cell_type": "code",
   "source": [
    "import datetime\n",
    "import os.path\n",
    "import pandas as pd\n",
    "\n",
    "from google.auth.transport.requests import Request\n",
    "from google.oauth2.credentials import Credentials\n",
    "from google_auth_oauthlib.flow import InstalledAppFlow\n",
    "from googleapiclient.discovery import build\n",
    "from googleapiclient.errors import HttpError"
   ],
   "id": "eb24e935fc19ae91",
   "outputs": [],
   "execution_count": 2
  },
  {
   "metadata": {},
   "cell_type": "markdown",
   "source": "### Constants",
   "id": "4954c9dda42dc751"
  },
  {
   "metadata": {},
   "cell_type": "code",
   "outputs": [],
   "execution_count": null,
   "source": [
    "# If modifying scopes, delete file token.json. \n",
    "# This scope allows read-only access to calendar events.\n",
    "SCOPES = [\"https://www.googleapis.com/auth/calendar.readonly\"]\n",
    "\n",
    "# Paths to .json\n",
    "CREDENTIALS_FILE = \"credentials.json\"\n",
    "TOKEN_FILE = \"token.json\""
   ],
   "id": "ee6b5f07562ac37c"
  },
  {
   "metadata": {},
   "cell_type": "markdown",
   "source": "### Authentication",
   "id": "f8a2e60c0ba40853"
  },
  {
   "metadata": {},
   "cell_type": "code",
   "outputs": [],
   "execution_count": null,
   "source": [
    "creds = None\n",
    "\n",
    "# if token file exists, extract credentials from it with current scope setting\n",
    "if os.path.exists(TOKEN_FILE):\n",
    "    creds = Credentials.from_authorized_user_file(TOKEN_FILE, SCOPES)\n",
    "\n",
    "if not creds or not creds.valid: # if credentials don't exist or are expired,\n",
    "    if creds and creds.expired and creds.refresh_token: # refresh them if expired and refresh token is available\n",
    "        creds.refresh(Request())\n",
    "    else: # if tokens unavailable, get from existing credentials file with curr scope setting\n",
    "        flow = InstalledAppFlow.from_client_secrets_file(CREDENTIALS_FILE, SCOPES)\n",
    "        creds = flow.run_local_server(port=0) # get credentials from flow\n",
    "    with open(TOKEN_FILE, \"w\") as token: # write credentials to token file\n",
    "        token.write(creds.to_json())\n",
    "\n",
    "print(\"Authentication successful\")"
   ],
   "id": "9c2ea454080fe21"
  },
  {
   "metadata": {},
   "cell_type": "markdown",
   "source": "### API call to Google Calendar API",
   "id": "6bcca1a789042bd0"
  },
  {
   "metadata": {},
   "cell_type": "code",
   "outputs": [],
   "execution_count": null,
   "source": [
    "# Define time range for getting calendar events (e.g. set for 1 week for test)\n",
    "END_TIME = datetime.datetime.now()\n",
    "START_TIME = END_TIME - datetime.timedelta(days=7)\n",
    "\n",
    "try:\n",
    "    # construct resource for interacting with Calendar API\n",
    "    service = build(\"calendar\", \"v3\", credentials=creds)\n",
    "    \n",
    "    timeMin_str = START_TIME.isoformat() + \"Z\"\n",
    "    timeMax_str = END_TIME.isoformat() + \"Z\"\n",
    "    \n",
    "    print(f\"Fetching events from {timeMin_str} to {timeMax_str}...\")\n",
    "    \n",
    "    # get event items in calendar ID\n",
    "    events_result = (\n",
    "        service.events()\n",
    "        .list(\n",
    "            calendarId=\"primary\",\n",
    "            timeMin=timeMin_str,\n",
    "            timeMax=timeMax_str,\n",
    "            singleEvents=True,\n",
    "            orderBy=\"startTime\",\n",
    "        )\n",
    "        .execute()\n",
    "    )\n",
    "    events = events_result.get(\"items\", [])\n",
    "    if not events:\n",
    "        print(\"No events found in specified time range.\")\n",
    "    else:\n",
    "        print(f\"Found {len(events)} events.\")\n",
    "        \n",
    "except HttpError as e:\n",
    "    print(f\"An API error occurred: {e}\")\n",
    "    \n",
    "    "
   ],
   "id": "5eb058eb0180c7e3"
  },
  {
   "metadata": {},
   "cell_type": "markdown",
   "source": "### Analyze API response",
   "id": "5dedce7238f5474e"
  },
  {
   "metadata": {
    "ExecuteTime": {
     "end_time": "2025-07-13T23:56:23.068468Z",
     "start_time": "2025-07-13T23:56:22.718734Z"
    }
   },
   "cell_type": "code",
   "source": [
    "calendar_data = []\n",
    "\n",
    "for event in events:\n",
    "    # print(event)\n",
    "    start_time_str = event[\"start\"].get(\"dateTime\", event[\"start\"].get(\"date\"))\n",
    "    end_time_str = event[\"end\"].get(\"dateTime\", event[\"end\"].get(\"date\"))\n",
    "    summary = event[\"summary\"]\n",
    "    \n",
    "    try:\n",
    "        # convert to datetime objects, handling full-day events (date only)\n",
    "        if 'T' in start_time_str: # has time component\n",
    "            start_dt = datetime.datetime.fromisoformat(start_time_str.replace('Z', '+00:00'))\n",
    "        else: # date only; assume start of day\n",
    "            start_dt = datetime.datetime.fromisoformat(start_time_str).replace(hour=0, minute=0, second=0, microsecond=0)\n",
    "            \n",
    "        if 'T' in end_time_str: # has time component\n",
    "            end_dt = datetime.datetime.fromisoformat(end_time_str.replace('Z', '+00:00'))\n",
    "        else: # date only; assume end of day for duration\n",
    "            end_dt = datetime.datetime.fromisoformat(end_time_str).replace(hour=23, minute=59, second=59, \n",
    "                                                                           microsecond=999999)\n",
    "        duration = end_dt - start_dt\n",
    "        duration_hours = duration.total_seconds() / 3600 # duration in hours\n",
    "        \n",
    "        calendar_data.append({\n",
    "            \"summary\": summary,\n",
    "            \"start\": start_dt,\n",
    "            \"end\": end_dt,\n",
    "            \"duration\": duration_hours\n",
    "        })\n",
    "    except ValueError as e:\n",
    "        print(f\"Skipping event '{event['summary']}' due to date parsing error: {e}\")\n",
    "        continue\n",
    "        \n",
    "df = pd.DataFrame(calendar_data)\n",
    "\n",
    "# format data into ____ for output file\n",
    "if not df.empty:\n",
    "    \n",
    "    print(df.head())"
   ],
   "id": "deb8de76a7900dee",
   "outputs": [
    {
     "ename": "NameError",
     "evalue": "name 'events' is not defined",
     "output_type": "error",
     "traceback": [
      "\u001B[31m---------------------------------------------------------------------------\u001B[39m",
      "\u001B[31mNameError\u001B[39m                                 Traceback (most recent call last)",
      "\u001B[36mCell\u001B[39m\u001B[36m \u001B[39m\u001B[32mIn[1]\u001B[39m\u001B[32m, line 3\u001B[39m\n\u001B[32m      1\u001B[39m calendar_data = []\n\u001B[32m----> \u001B[39m\u001B[32m3\u001B[39m \u001B[38;5;28;01mfor\u001B[39;00m event \u001B[38;5;129;01min\u001B[39;00m \u001B[43mevents\u001B[49m:\n\u001B[32m      4\u001B[39m     \u001B[38;5;66;03m# print(event)\u001B[39;00m\n\u001B[32m      5\u001B[39m     start_time_str = event[\u001B[33m\"\u001B[39m\u001B[33mstart\u001B[39m\u001B[33m\"\u001B[39m].get(\u001B[33m\"\u001B[39m\u001B[33mdateTime\u001B[39m\u001B[33m\"\u001B[39m, event[\u001B[33m\"\u001B[39m\u001B[33mstart\u001B[39m\u001B[33m\"\u001B[39m].get(\u001B[33m\"\u001B[39m\u001B[33mdate\u001B[39m\u001B[33m\"\u001B[39m))\n\u001B[32m      6\u001B[39m     end_time_str = event[\u001B[33m\"\u001B[39m\u001B[33mend\u001B[39m\u001B[33m\"\u001B[39m].get(\u001B[33m\"\u001B[39m\u001B[33mdateTime\u001B[39m\u001B[33m\"\u001B[39m, event[\u001B[33m\"\u001B[39m\u001B[33mend\u001B[39m\u001B[33m\"\u001B[39m].get(\u001B[33m\"\u001B[39m\u001B[33mdate\u001B[39m\u001B[33m\"\u001B[39m))\n",
      "\u001B[31mNameError\u001B[39m: name 'events' is not defined"
     ]
    }
   ],
   "execution_count": 1
  },
  {
   "metadata": {},
   "cell_type": "markdown",
   "source": "### Analyze data",
   "id": "d26749e018938cf5"
  },
  {
   "metadata": {},
   "cell_type": "markdown",
   "source": "### Output data file",
   "id": "2de848b7069eee5c"
  },
  {
   "metadata": {},
   "cell_type": "markdown",
   "source": "",
   "id": "d351e78a000c5f0c"
  }
 ],
 "metadata": {
  "kernelspec": {
   "display_name": "Python 3",
   "language": "python",
   "name": "python3"
  },
  "language_info": {
   "codemirror_mode": {
    "name": "ipython",
    "version": 2
   },
   "file_extension": ".py",
   "mimetype": "text/x-python",
   "name": "python",
   "nbconvert_exporter": "python",
   "pygments_lexer": "ipython2",
   "version": "2.7.6"
  }
 },
 "nbformat": 4,
 "nbformat_minor": 5
}
