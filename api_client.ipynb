{
 "cells": [
  {
   "metadata": {},
   "cell_type": "markdown",
   "source": "### Dependencies",
   "id": "33b9655d95d6d1ab"
  },
  {
   "cell_type": "code",
   "execution_count": null,
   "id": "initial_id",
   "metadata": {
    "collapsed": true
   },
   "outputs": [],
   "source": [
    "# (Run once)\n",
    "!pip install google-api-python-client google-auth-oauthlib\n"
   ]
  },
  {
   "metadata": {},
   "cell_type": "markdown",
   "source": "#### Setup and imports",
   "id": "f79f50fcea1ac3c5"
  },
  {
   "metadata": {},
   "cell_type": "code",
   "outputs": [],
   "execution_count": null,
   "source": [
    "import datetime\n",
    "import os.path\n",
    "\n",
    "from google.auth.transport.requests import Request\n",
    "from google.oauth2.credentials import Credentials\n",
    "from google_auth_oauthlib.flow import InstalledAppFlow\n",
    "from googleapiclient.discovery import build\n",
    "from googleapiclient.errors import HttpError"
   ],
   "id": "eb24e935fc19ae91"
  },
  {
   "metadata": {},
   "cell_type": "markdown",
   "source": "### Constants",
   "id": "4954c9dda42dc751"
  },
  {
   "metadata": {},
   "cell_type": "code",
   "outputs": [],
   "execution_count": null,
   "source": [
    "# If modifying scopes, delete file token.json. \n",
    "# This scope allows read-only access to calendar events.\n",
    "SCOPES = [\"https://www.googleapis.com/auth/calendar.readonly\"]\n",
    "\n",
    "# Paths to .json\n",
    "CREDENTIALS_FILE = \"credentials.json\"\n",
    "TOKEN_FILE = \"token.json\""
   ],
   "id": "ee6b5f07562ac37c"
  },
  {
   "metadata": {},
   "cell_type": "markdown",
   "source": "### Authentication",
   "id": "f8a2e60c0ba40853"
  },
  {
   "metadata": {},
   "cell_type": "code",
   "outputs": [],
   "execution_count": null,
   "source": [
    "creds = None\n",
    "\n",
    "if os.path.exists(TOKEN_FILE):\n",
    "    creds = Credentials.from_authorized_users_file(TOKEN_FILE, SCOPES)\n",
    "\n",
    "if not creds or not creds.valid:\n",
    "    if creds and creds.expired and creds.refresh_token:\n",
    "        creds.refresh(Request())\n",
    "    else:\n",
    "        flow = InstalledAppFlow.from_client_secrets_file(CREDENTIALS_FILE, SCOPES)\n",
    "        creds = flow.run_local_server(port=0)\n",
    "    with open(TOKEN_FILE, \"w\") as token:\n",
    "        token.write(creds.to_json())\n",
    "\n",
    "print(\"Authentication successful\")"
   ],
   "id": "9c2ea454080fe21"
  }
 ],
 "metadata": {
  "kernelspec": {
   "display_name": "Python 3",
   "language": "python",
   "name": "python3"
  },
  "language_info": {
   "codemirror_mode": {
    "name": "ipython",
    "version": 2
   },
   "file_extension": ".py",
   "mimetype": "text/x-python",
   "name": "python",
   "nbconvert_exporter": "python",
   "pygments_lexer": "ipython2",
   "version": "2.7.6"
  }
 },
 "nbformat": 4,
 "nbformat_minor": 5
}
